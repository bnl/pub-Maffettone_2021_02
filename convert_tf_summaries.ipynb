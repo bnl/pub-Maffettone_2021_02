{
 "cells": [
  {
   "cell_type": "markdown",
   "metadata": {},
   "source": [
    "Convert tensorflow summaries. This is slow becuase everything was saved as a tensor"
   ]
  },
  {
   "cell_type": "code",
   "execution_count": 1,
   "metadata": {},
   "outputs": [],
   "source": [
    "import os\n",
    "import numpy as np\n",
    "import pandas as pd\n",
    "\n",
    "from collections import defaultdict\n",
    "from tensorboard.backend.event_processing.event_accumulator import EventAccumulator\n",
    "from pathlib import Path\n",
    "import tensorflow as tf\n",
    "import pandas as pd\n",
    "import multiprocessing as mp"
   ]
  },
  {
   "cell_type": "code",
   "execution_count": 2,
   "metadata": {},
   "outputs": [],
   "source": [
    "def load_accumulator(path):\n",
    "    event_acc = EventAccumulator(str(path), size_guidance={'tensors':0})\n",
    "    event_acc.Reload()\n",
    "    w_times, step_nums, vals = zip(*event_acc.Tensors('agent.observe/episode-reward'))\n",
    "    return w_times, step_nums, [float(tf.make_ndarray(a)) for a in vals]\n",
    "                                "
   ]
  },
  {
   "cell_type": "code",
   "execution_count": 3,
   "metadata": {},
   "outputs": [],
   "source": [
    "def make_csv(path):\n",
    "    csv_path = path.parent.parent / Path(path.parent.name+'.csv')\n",
    "    w_times, step_nums, vals = load_accumulator(path)\n",
    "    df = pd.DataFrame({'wall':w_times, 'step':step_nums, 'val':vals})\n",
    "    df.to_csv(str(csv_path), index=False)"
   ]
  },
  {
   "cell_type": "code",
   "execution_count": 4,
   "metadata": {},
   "outputs": [],
   "source": [
    "dpath = Path('bad_seeds/simple/training_data/a2c_cartseed')\n",
    "paths = list(dpath.glob('*_512/summary*'))"
   ]
  },
  {
   "cell_type": "code",
   "execution_count": 5,
   "metadata": {},
   "outputs": [],
   "source": [
    "pool = mp.Pool(processes=32)\n",
    "pool.map(make_csv, paths)\n",
    "pool.close()"
   ]
  },
  {
   "cell_type": "code",
   "execution_count": 6,
   "metadata": {},
   "outputs": [
    {
     "data": {
      "text/plain": [
       "[PosixPath('bad_seeds/simple/training_data/a2c_cartseed/70_default_512/summary-20200828-124846'),\n",
       " PosixPath('bad_seeds/simple/training_data/a2c_cartseed/50_default_512/summary-20200828-124840'),\n",
       " PosixPath('bad_seeds/simple/training_data/a2c_cartseed/20_default_512/summary-20200828-124812'),\n",
       " PosixPath('bad_seeds/simple/training_data/a2c_cartseed/30_default_512/summary-20200828-124820'),\n",
       " PosixPath('bad_seeds/simple/training_data/a2c_cartseed/60_default_512/summary-20200828-131413'),\n",
       " PosixPath('bad_seeds/simple/training_data/a2c_cartseed/40_default_512/summary-20200828-124823'),\n",
       " PosixPath('bad_seeds/simple/training_data/a2c_cartseed/100_default_512/summary-20200828-124859'),\n",
       " PosixPath('bad_seeds/simple/training_data/a2c_cartseed/None_None_512/summary-20200828-101747'),\n",
       " PosixPath('bad_seeds/simple/training_data/a2c_cartseed/80_default_512/summary-20200828-131419'),\n",
       " PosixPath('bad_seeds/simple/training_data/a2c_cartseed/90_default_512/summary-20200828-124853'),\n",
       " PosixPath('bad_seeds/simple/training_data/a2c_cartseed/10_default_512/summary-20200828-124759')]"
      ]
     },
     "execution_count": 6,
     "metadata": {},
     "output_type": "execute_result"
    }
   ],
   "source": [
    "paths"
   ]
  }
 ],
 "metadata": {
  "kernelspec": {
   "display_name": "Python 3",
   "language": "python",
   "name": "python3"
  },
  "language_info": {
   "codemirror_mode": {
    "name": "ipython",
    "version": 3
   },
   "file_extension": ".py",
   "mimetype": "text/x-python",
   "name": "python",
   "nbconvert_exporter": "python",
   "pygments_lexer": "ipython3",
   "version": "3.7.7"
  }
 },
 "nbformat": 4,
 "nbformat_minor": 4
}
